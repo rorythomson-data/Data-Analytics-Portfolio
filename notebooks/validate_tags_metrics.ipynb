{
 "cells": [
  {
   "cell_type": "markdown",
   "id": "b9f953a5",
   "metadata": {},
   "source": [
    "#### 1. Imports and Data Loading"
   ]
  },
  {
   "cell_type": "code",
   "execution_count": 327,
   "id": "682a07c3",
   "metadata": {},
   "outputs": [
    {
     "name": "stdout",
     "output_type": "stream",
     "text": [
      "Data shapes:\n",
      "Purchases: (433, 29)\n",
      "Contacts: (500, 27)\n",
      "Metrics: (17, 20)\n"
     ]
    }
   ],
   "source": [
    "import pandas as pd\n",
    "import ast\n",
    "\n",
    "# Paths\n",
    "purchases_file = \"../data/INPUT/holded_purchases/clean/holded_purchases_clean.csv\"\n",
    "contacts_file = \"../data/INPUT/holded_contacts/clean/holded_contacts_clean.csv\"\n",
    "metrics_summary_file = \"../data/OUTPUT/2025-07/metrics_summary.csv\"  # adjust folder if needed\n",
    "\n",
    "# Load data\n",
    "purchases = pd.read_csv(purchases_file)\n",
    "contacts = pd.read_csv(contacts_file)\n",
    "df_metrics = pd.read_csv(metrics_summary_file)\n",
    "\n",
    "print(\"Data shapes:\")\n",
    "print(\"Purchases:\", purchases.shape)\n",
    "print(\"Contacts:\", contacts.shape)\n",
    "print(\"Metrics:\", df_metrics.shape)\n",
    "\n",
    "\n"
   ]
  },
  {
   "cell_type": "code",
   "execution_count": 332,
   "id": "049f2a16",
   "metadata": {},
   "outputs": [
    {
     "data": {
      "text/plain": [
       "Index(['id', 'customId', 'name', 'code', 'vatnumber', 'tradeName', 'email',\n",
       "       'mobile', 'phone', 'type', 'iban', 'swift', 'groupId', 'clientRecord',\n",
       "       'supplierRecord', 'billAddress', 'customFields', 'defaults',\n",
       "       'socialNetworks', 'tags', 'notes', 'contactPersons',\n",
       "       'shippingAddresses', 'isperson', 'createdAt', 'updatedAt',\n",
       "       'updatedHash'],\n",
       "      dtype='object')"
      ]
     },
     "execution_count": 332,
     "metadata": {},
     "output_type": "execute_result"
    }
   ],
   "source": [
    "contacts.columns"
   ]
  },
  {
   "cell_type": "markdown",
   "id": "eda3217e",
   "metadata": {},
   "source": [
    "#### 2. Supplier Mapping Table"
   ]
  },
  {
   "cell_type": "code",
   "execution_count": 328,
   "id": "d97fe938",
   "metadata": {},
   "outputs": [
    {
     "name": "stdout",
     "output_type": "stream",
     "text": [
      "Sample supplier tags:\n",
      "                         id                    tags\n",
      "0  6694f45fc6f6db032502c35b      [opex, prod, tool]\n",
      "1  6694f5a3919746067d00ab14   [opex, ops, staffing]\n",
      "2  6694f65bad0998298507286e     [opex, fin, vendor]\n",
      "3  6694f697d25266d2f009e339     [opex, fin, vendor]\n",
      "4  6694f7811cbbbbcbc5094183  [opex, prod, staffing]\n",
      "5  6694f881e793fd466106a51f      [cogs, tech, tool]\n",
      "6  6694f924d7d911379105f312       [opex, ops, tool]\n",
      "7  6694faff0c3b83b17508c837   [cac, sale, staffing]\n",
      "8  6694fc239e07ff6dfc052826       [cac, sale, tool]\n",
      "9  6694febb64ba6319900bcdcf      [cogs, tech, tool]\n"
     ]
    }
   ],
   "source": [
    "# Keep only suppliers and their tags\n",
    "supplier_tags_map = contacts[contacts['type'] == 'supplier'][['id', 'tags']].copy()\n",
    "\n",
    "def parse_tags(val):\n",
    "    \"\"\"Converts raw tag strings (like '[\"opex\", \"tool\"]') into a list.\"\"\"\n",
    "    if isinstance(val, list):\n",
    "        return [t.strip().lower().replace('\"', '') for t in val]\n",
    "    if pd.isna(val) or val == '':\n",
    "        return []\n",
    "    if isinstance(val, str):\n",
    "        try:\n",
    "            parsed = ast.literal_eval(val)\n",
    "            if isinstance(parsed, list):\n",
    "                return [t.strip().lower().replace('\"', '') for t in parsed]\n",
    "        except (ValueError, SyntaxError):\n",
    "            return [val.strip().lower().replace('\"', '')]\n",
    "    return []\n",
    "\n",
    "# Parse tags in contacts\n",
    "supplier_tags_map['tags'] = supplier_tags_map['tags'].apply(parse_tags)\n",
    "print(\"Sample supplier tags:\")\n",
    "print(supplier_tags_map.head(10))\n"
   ]
  },
  {
   "cell_type": "markdown",
   "id": "0d8e9f56",
   "metadata": {},
   "source": [
    "#### 3. Merge Purchases with Tags"
   ]
  },
  {
   "cell_type": "code",
   "execution_count": 329,
   "id": "7d3b5ebd",
   "metadata": {},
   "outputs": [
    {
     "name": "stdout",
     "output_type": "stream",
     "text": [
      "Purchases with tags preview:\n",
      "                    contact                tags    month\n",
      "0  6694f881e793fd466106a51f  [cogs, tech, tool]  2025-07\n",
      "1  67ae52d039bbf51a6108472b  [cogs, tech, tool]  2025-07\n",
      "2  681a5579f1ea6b91650b2f65  [cogs, tech, tool]  2025-07\n",
      "3  6694f881e793fd466106a51f  [cogs, tech, tool]  2025-07\n",
      "4  681a5579f1ea6b91650b2f65  [cogs, tech, tool]  2025-07\n",
      "5  672ca6594cc0add3080b6460  [cogs, tech, tool]  2025-07\n",
      "6  66bb168bffa1a257fd08a465   [opex, mkg, tool]  2025-07\n",
      "7  67be15a371730ffc8e081860  [cogs, tech, tool]  2025-07\n",
      "8  6694febb64ba6319900bcdcf  [cogs, tech, tool]  2025-07\n",
      "9  686f9d2da3972b9b98032aff                 NaN  2025-07\n"
     ]
    }
   ],
   "source": [
    "# Merge purchases with supplier tags\n",
    "purchases_with_tags = purchases.merge(\n",
    "    supplier_tags_map, left_on='contact', right_on='id', how='left'\n",
    ")\n",
    "\n",
    "# Rename 'tags' column (from contacts) to a standard name\n",
    "if 'tags_y' in purchases_with_tags.columns:\n",
    "    purchases_with_tags.rename(columns={'tags_y': 'tags'}, inplace=True)\n",
    "elif 'tags' not in purchases_with_tags.columns:\n",
    "    purchases_with_tags['tags'] = [[] for _ in range(len(purchases_with_tags))]\n",
    "\n",
    "# Convert purchase date to datetime and extract month\n",
    "purchases_with_tags['date'] = pd.to_datetime(purchases_with_tags['date'], errors='coerce')\n",
    "purchases_with_tags['month'] = purchases_with_tags['date'].dt.to_period('M').astype(str)\n",
    "\n",
    "print(\"Purchases with tags preview:\")\n",
    "print(purchases_with_tags[['contact', 'tags', 'month']].head(10))\n"
   ]
  },
  {
   "cell_type": "markdown",
   "id": "a6596a80",
   "metadata": {},
   "source": [
    "#### 5. Calculate OPEX, COGS, Financial Costs"
   ]
  },
  {
   "cell_type": "code",
   "execution_count": 330,
   "id": "1ef7e7fc",
   "metadata": {},
   "outputs": [
    {
     "name": "stdout",
     "output_type": "stream",
     "text": [
      "Rows with 'opex': 222\n",
      "OPEX by month:\n",
      "       month  opex_calc\n",
      "0   2024-03       4.62\n",
      "1   2024-04    7689.21\n",
      "2   2024-05   13122.96\n",
      "3   2024-06   10834.95\n",
      "4   2024-07   19037.16\n",
      "5   2024-08    9515.14\n",
      "6   2024-09   24717.66\n",
      "7   2024-10   12650.11\n",
      "8   2024-11   12852.10\n",
      "9   2024-12   13760.72\n",
      "10  2025-01   13816.92\n",
      "11  2025-02   20243.17\n",
      "12  2025-03   12671.73\n",
      "13  2025-04   20386.01\n",
      "14  2025-05   13356.06\n",
      "15  2025-06   13221.77\n",
      "16  2025-07      36.00\n",
      "\n",
      "Rows with 'cogs': 134\n",
      "COGS by month:\n",
      "       month  cogs_calc\n",
      "0   2024-06     989.79\n",
      "1   2024-07      96.89\n",
      "2   2024-08     492.90\n",
      "3   2024-09     560.42\n",
      "4   2024-10    1041.59\n",
      "5   2024-11    7154.85\n",
      "6   2024-12     513.45\n",
      "7   2025-01    4580.42\n",
      "8   2025-02    9463.69\n",
      "9   2025-03    1311.20\n",
      "10  2025-04    3186.33\n",
      "11  2025-05    3746.13\n",
      "12  2025-06    5033.46\n",
      "13  2025-07    4286.83\n",
      "\n",
      "Rows with 'costes financieros': 3\n",
      "Financial Costs by month:\n",
      "      month  fin_calc\n",
      "0  2025-02    729.00\n",
      "1  2025-03   1271.96\n",
      "2  2025-06   2462.72\n"
     ]
    }
   ],
   "source": [
    "# Ensure 'tags' column is always a list\n",
    "purchases_with_tags['tags'] = purchases_with_tags['tags'].apply(\n",
    "    lambda x: x if isinstance(x, list) else []\n",
    ")\n",
    "\n",
    "# Filter by tags\n",
    "opex_data = purchases_with_tags[purchases_with_tags['tags'].apply(lambda t: 'opex' in t)]\n",
    "cogs_data = purchases_with_tags[purchases_with_tags['tags'].apply(lambda t: 'cogs' in t)]\n",
    "fin_data = purchases_with_tags[purchases_with_tags['tags'].apply(lambda t: 'costes financieros' in t)]\n",
    "\n",
    "# Summaries by month\n",
    "opex_by_month = opex_data.groupby('month')['total'].sum().reset_index().rename(columns={'total': 'opex_calc'})\n",
    "cogs_by_month = cogs_data.groupby('month')['total'].sum().reset_index().rename(columns={'total': 'cogs_calc'})\n",
    "fin_by_month = fin_data.groupby('month')['total'].sum().reset_index().rename(columns={'total': 'fin_calc'})\n",
    "\n",
    "# Print results\n",
    "print(\"Rows with 'opex':\", len(opex_data))\n",
    "print(\"OPEX by month:\\n\", opex_by_month)\n",
    "print(\"\\nRows with 'cogs':\", len(cogs_data))\n",
    "print(\"COGS by month:\\n\", cogs_by_month)\n",
    "print(\"\\nRows with 'costes financieros':\", len(fin_data))\n",
    "print(\"Financial Costs by month:\\n\", fin_by_month)"
   ]
  },
  {
   "cell_type": "markdown",
   "id": "63d4d1f5",
   "metadata": {},
   "source": [
    "#### 5. Merge with Metrics Summary"
   ]
  },
  {
   "cell_type": "code",
   "execution_count": 331,
   "id": "f0054e27",
   "metadata": {},
   "outputs": [
    {
     "name": "stdout",
     "output_type": "stream",
     "text": [
      "Rows with 'opex': 222\n",
      "OPEX by month:\n",
      "       month  opex_calc\n",
      "0   2024-03       4.62\n",
      "1   2024-04    7689.21\n",
      "2   2024-05   13122.96\n",
      "3   2024-06   10834.95\n",
      "4   2024-07   19037.16\n",
      "5   2024-08    9515.14\n",
      "6   2024-09   24717.66\n",
      "7   2024-10   12650.11\n",
      "8   2024-11   12852.10\n",
      "9   2024-12   13760.72\n",
      "10  2025-01   13816.92\n",
      "11  2025-02   20243.17\n",
      "12  2025-03   12671.73\n",
      "13  2025-04   20386.01\n",
      "14  2025-05   13356.06\n",
      "15  2025-06   13221.77\n",
      "16  2025-07      36.00\n",
      "\n",
      "Rows with 'cogs': 134\n",
      "COGS by month:\n",
      "       month  cogs_calc\n",
      "0   2024-06     989.79\n",
      "1   2024-07      96.89\n",
      "2   2024-08     492.90\n",
      "3   2024-09     560.42\n",
      "4   2024-10    1041.59\n",
      "5   2024-11    7154.85\n",
      "6   2024-12     513.45\n",
      "7   2025-01    4580.42\n",
      "8   2025-02    9463.69\n",
      "9   2025-03    1311.20\n",
      "10  2025-04    3186.33\n",
      "11  2025-05    3746.13\n",
      "12  2025-06    5033.46\n",
      "13  2025-07    4286.83\n",
      "\n",
      "Rows with 'costes financieros': 3\n",
      "Financial Costs by month:\n",
      "      month  fin_calc\n",
      "0  2025-02    729.00\n",
      "1  2025-03   1271.96\n",
      "2  2025-06   2462.72\n"
     ]
    }
   ],
   "source": [
    "# Ensure 'tags' column is always a list\n",
    "purchases_with_tags['tags'] = purchases_with_tags['tags'].apply(\n",
    "    lambda x: x if isinstance(x, list) else []\n",
    ")\n",
    "\n",
    "# Filter by tags\n",
    "opex_data = purchases_with_tags[purchases_with_tags['tags'].apply(lambda t: 'opex' in t)]\n",
    "cogs_data = purchases_with_tags[purchases_with_tags['tags'].apply(lambda t: 'cogs' in t)]\n",
    "fin_data = purchases_with_tags[purchases_with_tags['tags'].apply(lambda t: 'costes financieros' in t)]\n",
    "\n",
    "# Summaries by month\n",
    "opex_by_month = opex_data.groupby('month')['total'].sum().reset_index().rename(columns={'total': 'opex_calc'})\n",
    "cogs_by_month = cogs_data.groupby('month')['total'].sum().reset_index().rename(columns={'total': 'cogs_calc'})\n",
    "fin_by_month = fin_data.groupby('month')['total'].sum().reset_index().rename(columns={'total': 'fin_calc'})\n",
    "\n",
    "# Print results\n",
    "print(\"Rows with 'opex':\", len(opex_data))\n",
    "print(\"OPEX by month:\\n\", opex_by_month)\n",
    "print(\"\\nRows with 'cogs':\", len(cogs_data))\n",
    "print(\"COGS by month:\\n\", cogs_by_month)\n",
    "print(\"\\nRows with 'costes financieros':\", len(fin_data))\n",
    "print(\"Financial Costs by month:\\n\", fin_by_month)\n"
   ]
  }
 ],
 "metadata": {
  "kernelspec": {
   "display_name": "venv",
   "language": "python",
   "name": "python3"
  },
  "language_info": {
   "codemirror_mode": {
    "name": "ipython",
    "version": 3
   },
   "file_extension": ".py",
   "mimetype": "text/x-python",
   "name": "python",
   "nbconvert_exporter": "python",
   "pygments_lexer": "ipython3",
   "version": "3.12.0"
  }
 },
 "nbformat": 4,
 "nbformat_minor": 5
}
